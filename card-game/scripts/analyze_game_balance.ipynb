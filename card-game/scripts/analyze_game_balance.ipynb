{
 "cells": [
  {
   "cell_type": "code",
   "execution_count": 1,
   "metadata": {},
   "outputs": [],
   "source": [
    "import matplotlib.pyplot as plt\n",
    "import os\n",
    "import pandas as pd\n",
    "\n",
    "CARD_FACTORY_DATA_DIR = os.path.join(os.environ.get('APPDATA'), 'Godot', 'app_userdata', 'Card Factory', 'data')\n",
    "GAME_RESULTS_PATH = os.path.join(CARD_FACTORY_DATA_DIR, 'GameAnalysis_Results.csv')\n",
    "PLAYER_CARD_RESULTS_PATH = os.path.join(CARD_FACTORY_DATA_DIR, 'GameAnalysis_PlayerCardPerformance.csv')\n",
    "ENEMY_CARD_RESULTS_PATH = os.path.join(CARD_FACTORY_DATA_DIR, 'GameAnalysis_EnemyCardPerformance.csv')"
   ]
  },
  {
   "cell_type": "markdown",
   "metadata": {},
   "source": [
    "# Game Balance Analysis\n",
    "\n",
    "Using the GameSimulator component to analyze the balance between auto-generated AI and heuristic-based player win rates.\n",
    "\n",
    "Also check to see win/lose rates for when the player or enemy puts certain card types into play to check card stat balance."
   ]
  },
  {
   "cell_type": "code",
   "execution_count": 2,
   "metadata": {},
   "outputs": [
    {
     "data": {
      "text/html": [
       "<div>\n",
       "<style scoped>\n",
       "    .dataframe tbody tr th:only-of-type {\n",
       "        vertical-align: middle;\n",
       "    }\n",
       "\n",
       "    .dataframe tbody tr th {\n",
       "        vertical-align: top;\n",
       "    }\n",
       "\n",
       "    .dataframe thead th {\n",
       "        text-align: right;\n",
       "    }\n",
       "</style>\n",
       "<table border=\"1\" class=\"dataframe\">\n",
       "  <thead>\n",
       "    <tr style=\"text-align: right;\">\n",
       "      <th></th>\n",
       "      <th>Pool</th>\n",
       "      <th>Level</th>\n",
       "      <th>TotalGames</th>\n",
       "      <th>WinRate</th>\n",
       "      <th>PlayerWin</th>\n",
       "      <th>EnemyWin</th>\n",
       "      <th>Stalemate</th>\n",
       "      <th>MaxTurnsReached</th>\n",
       "    </tr>\n",
       "  </thead>\n",
       "  <tbody>\n",
       "    <tr>\n",
       "      <th>0</th>\n",
       "      <td>0</td>\n",
       "      <td>1</td>\n",
       "      <td>gamesPlayed</td>\n",
       "      <td>1.00</td>\n",
       "      <td>12</td>\n",
       "      <td>0</td>\n",
       "      <td>0</td>\n",
       "      <td>0</td>\n",
       "    </tr>\n",
       "    <tr>\n",
       "      <th>1</th>\n",
       "      <td>0</td>\n",
       "      <td>1</td>\n",
       "      <td>gamesPlayed</td>\n",
       "      <td>1.00</td>\n",
       "      <td>12</td>\n",
       "      <td>0</td>\n",
       "      <td>0</td>\n",
       "      <td>0</td>\n",
       "    </tr>\n",
       "    <tr>\n",
       "      <th>2</th>\n",
       "      <td>0</td>\n",
       "      <td>1</td>\n",
       "      <td>gamesPlayed</td>\n",
       "      <td>1.00</td>\n",
       "      <td>16</td>\n",
       "      <td>0</td>\n",
       "      <td>0</td>\n",
       "      <td>0</td>\n",
       "    </tr>\n",
       "    <tr>\n",
       "      <th>3</th>\n",
       "      <td>0</td>\n",
       "      <td>1</td>\n",
       "      <td>gamesPlayed</td>\n",
       "      <td>1.00</td>\n",
       "      <td>12</td>\n",
       "      <td>0</td>\n",
       "      <td>0</td>\n",
       "      <td>0</td>\n",
       "    </tr>\n",
       "    <tr>\n",
       "      <th>4</th>\n",
       "      <td>0</td>\n",
       "      <td>1</td>\n",
       "      <td>gamesPlayed</td>\n",
       "      <td>0.91</td>\n",
       "      <td>10</td>\n",
       "      <td>1</td>\n",
       "      <td>0</td>\n",
       "      <td>0</td>\n",
       "    </tr>\n",
       "  </tbody>\n",
       "</table>\n",
       "</div>"
      ],
      "text/plain": [
       "   Pool  Level   TotalGames  WinRate  PlayerWin  EnemyWin  Stalemate  \\\n",
       "0     0      1  gamesPlayed     1.00         12         0          0   \n",
       "1     0      1  gamesPlayed     1.00         12         0          0   \n",
       "2     0      1  gamesPlayed     1.00         16         0          0   \n",
       "3     0      1  gamesPlayed     1.00         12         0          0   \n",
       "4     0      1  gamesPlayed     0.91         10         1          0   \n",
       "\n",
       "   MaxTurnsReached  \n",
       "0                0  \n",
       "1                0  \n",
       "2                0  \n",
       "3                0  \n",
       "4                0  "
      ]
     },
     "execution_count": 2,
     "metadata": {},
     "output_type": "execute_result"
    }
   ],
   "source": [
    "df = pd.read_csv(GAME_RESULTS_PATH, skipinitialspace=True)\n",
    "\n",
    "df.head()"
   ]
  }
 ],
 "metadata": {
  "kernelspec": {
   "display_name": ".venv",
   "language": "python",
   "name": "python3"
  },
  "language_info": {
   "codemirror_mode": {
    "name": "ipython",
    "version": 3
   },
   "file_extension": ".py",
   "mimetype": "text/x-python",
   "name": "python",
   "nbconvert_exporter": "python",
   "pygments_lexer": "ipython3",
   "version": "3.11.9"
  }
 },
 "nbformat": 4,
 "nbformat_minor": 2
}
